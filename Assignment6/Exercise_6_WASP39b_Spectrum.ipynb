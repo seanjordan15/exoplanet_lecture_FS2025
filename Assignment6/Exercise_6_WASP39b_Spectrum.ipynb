{
  "cells": [
    {
      "cell_type": "markdown",
      "id": "9e9d3cb0",
      "metadata": {
        "id": "9e9d3cb0"
      },
      "source": [
        "# Fit model atmosphere to exoplanet spectrum"
      ]
    },
    {
      "cell_type": "code",
      "execution_count": null,
      "id": "fe0dbd38",
      "metadata": {
        "id": "fe0dbd38"
      },
      "outputs": [],
      "source": [
        "#@title Imports\n",
        "import numpy as np\n",
        "import matplotlib.pyplot as plt\n",
        "import h5py\n",
        "import os"
      ]
    },
    {
      "cell_type": "markdown",
      "id": "ed88611c-454f-4e0c-9048-8da3ee23ef2b",
      "metadata": {
        "id": "ed88611c-454f-4e0c-9048-8da3ee23ef2b"
      },
      "source": [
        "## Get planet spectrum"
      ]
    },
    {
      "cell_type": "code",
      "execution_count": null,
      "id": "25b3feab-31ac-488b-aa3d-24895e9674c2",
      "metadata": {
        "collapsed": true,
        "jupyter": {
          "outputs_hidden": true
        },
        "id": "25b3feab-31ac-488b-aa3d-24895e9674c2"
      },
      "outputs": [],
      "source": [
        "! wget https://share.phys.ethz.ch/~ipa/exoplanet_lecture_FS24/FIREFLy_transit_spec.h5"
      ]
    },
    {
      "cell_type": "code",
      "execution_count": null,
      "id": "b60d00bb-f22b-4795-bfa9-f3d81dbc4c4a",
      "metadata": {
        "scrolled": true,
        "id": "b60d00bb-f22b-4795-bfa9-f3d81dbc4c4a"
      },
      "outputs": [],
      "source": [
        "# load data\n",
        "with h5py.File(\"FIREFLy_transit_spec.h5\", \"r\") as f:\n",
        "    print(\"Keys: %s\" % f.keys())\n",
        "    wav = f['wavelength'][()]\n",
        "    transit_depth = f['transit_depth'][()]\n",
        "    transit_depth_uncertainty = f['transit_depth_uncertainty'][()]"
      ]
    },
    {
      "cell_type": "code",
      "execution_count": null,
      "id": "f310273e-6f2a-4800-aef6-52c5734a91cf",
      "metadata": {
        "id": "f310273e-6f2a-4800-aef6-52c5734a91cf"
      },
      "outputs": [],
      "source": [
        "# visualise the spectrum\n"
      ]
    },
    {
      "cell_type": "code",
      "source": [
        "#@title Install petitRADTRANS\n",
        "!pip install meson-python ninja\n",
        "!pip install petitRADTRANS --no-build-isolation"
      ],
      "metadata": {
        "id": "MHmHEVLxrijB"
      },
      "id": "MHmHEVLxrijB",
      "execution_count": null,
      "outputs": []
    },
    {
      "cell_type": "markdown",
      "id": "4f62a6aa-9e20-4423-9e6c-89f330b0c544",
      "metadata": {
        "id": "4f62a6aa-9e20-4423-9e6c-89f330b0c544"
      },
      "source": [
        "## Import petitRADTRANS package"
      ]
    },
    {
      "cell_type": "code",
      "execution_count": null,
      "id": "540b0730",
      "metadata": {
        "id": "540b0730"
      },
      "outputs": [],
      "source": [
        "import petitRADTRANS\n",
        "from petitRADTRANS.radtrans import Radtrans\n",
        "from petitRADTRANS import physical_constants as cst"
      ]
    },
    {
      "cell_type": "code",
      "execution_count": null,
      "id": "0d42befc-deed-45e6-bcc7-d65d18948089",
      "metadata": {
        "id": "0d42befc-deed-45e6-bcc7-d65d18948089"
      },
      "outputs": [],
      "source": [
        "from petitRADTRANS.config.configuration import petitradtrans_config_parser"
      ]
    },
    {
      "cell_type": "code",
      "source": [
        "# Define input folder for opacities\n",
        "\n",
        "## e.g creating a new folder 'input_data':\n",
        "# os.mkdir(\"input_data\")\n",
        "# make sure all the opacity files are included and respective folder structures are kept!\n",
        "\n",
        "## then set folder in petitRADTRANS config file\n",
        "# petitradtrans_config_parser.set_input_data_path('./')\n",
        "\n",
        "## if you are using your google drive to access the input_data folder\n",
        "## first mount your drive\n",
        "#from google.colab import drive\n",
        "#drive.mount('/content/drive')\n",
        "\n",
        "## set the folder path to\n",
        "#petitradtrans_config_parser.set_input_data_path('./drive/MyDrive/')"
      ],
      "metadata": {
        "id": "WkvQeTR7Vxx0"
      },
      "id": "WkvQeTR7Vxx0",
      "execution_count": null,
      "outputs": []
    },
    {
      "cell_type": "markdown",
      "id": "ca6ea1c2-a4a9-43da-b909-e0ef924cd522",
      "metadata": {
        "id": "ca6ea1c2-a4a9-43da-b909-e0ef924cd522"
      },
      "source": [
        "## Initialize Radtrans Object\n",
        "For this opacity files need to be loaded from the input_data folder.\n"
      ]
    },
    {
      "cell_type": "code",
      "source": [
        "#Load opcities\n",
        "radtrans = Radtrans(\n",
        "pressures=np.logspace(-6, 2, 100),\n",
        "line_species=[\n",
        "    'H2O',\n",
        "    'CO-NatAbund',\n",
        "    'CH4',\n",
        "    'CO2',\n",
        "    'Na',\n",
        "    'K'\n",
        "],\n",
        "rayleigh_species=['H2', 'He'],\n",
        "gas_continuum_contributors=['H2-H2', 'H2-He'],\n",
        "wavelength_boundaries=[0.3, 6]\n",
        ")"
      ],
      "metadata": {
        "id": "KEvlqiahTUU6"
      },
      "id": "KEvlqiahTUU6",
      "execution_count": null,
      "outputs": []
    },
    {
      "cell_type": "markdown",
      "id": "c177e021-04ac-41b7-aa5d-8c1148b6627a",
      "metadata": {
        "id": "c177e021-04ac-41b7-aa5d-8c1148b6627a"
      },
      "source": [
        "### Get planet data"
      ]
    },
    {
      "cell_type": "code",
      "execution_count": null,
      "id": "0c26fd0a-138e-4d18-9eb4-931656af8995",
      "metadata": {
        "id": "0c26fd0a-138e-4d18-9eb4-931656af8995"
      },
      "outputs": [],
      "source": [
        "from petitRADTRANS.planet import Planet"
      ]
    },
    {
      "cell_type": "code",
      "execution_count": null,
      "id": "71ec5a58-082b-4f6e-a261-d9267995981a",
      "metadata": {
        "id": "71ec5a58-082b-4f6e-a261-d9267995981a"
      },
      "outputs": [],
      "source": [
        "planet = Planet.get('WASP-39 b')"
      ]
    },
    {
      "cell_type": "code",
      "execution_count": null,
      "id": "30c374f2-7510-4519-a026-4944fbbf940d",
      "metadata": {
        "id": "30c374f2-7510-4519-a026-4944fbbf940d"
      },
      "outputs": [],
      "source": [
        "# Display the planet radius and its uncertainties\n",
        "print(\n",
        "    f\"{planet.name}'s radius: {planet.radius * 1e-5:.0f} \"\n",
        "    f\"+{planet.radius_error_upper * 1e-5:.0f} / {planet.radius_error_lower * 1e-5:.0f} km\"\n",
        ")"
      ]
    },
    {
      "cell_type": "markdown",
      "id": "80efdb69-af2c-4a89-9436-8bfe1fa120be",
      "metadata": {
        "id": "80efdb69-af2c-4a89-9436-8bfe1fa120be"
      },
      "source": [
        "## Calculate first atmosphere"
      ]
    },
    {
      "cell_type": "code",
      "execution_count": null,
      "id": "99792c61-2e68-4a6c-92b3-1d0d66686be7",
      "metadata": {
        "id": "99792c61-2e68-4a6c-92b3-1d0d66686be7"
      },
      "outputs": [],
      "source": [
        "temperatures = 1170 * np.ones_like(radtrans.pressures) # note that radtrans.pressures is in cgs units now, multiply by 1e-6 to get bars\n",
        "mass_fractions = {\n",
        "    'H2': 0.74 * np.ones(temperatures.size),\n",
        "    'He': 0.24 * np.ones(temperatures.size),\n",
        "    'H2O': 5e-5 * np.ones(temperatures.size),\n",
        "    'CO-NatAbund': 1e-9 * np.ones(temperatures.size),\n",
        "    'CO2': 1e-5 * np.ones(temperatures.size),\n",
        "    'CH4': 1e-7 * np.ones(temperatures.size),\n",
        "    'Na': 1e-4 * np.ones(temperatures.size),\n",
        "    'K': 1e-6 * np.ones(temperatures.size)\n",
        "}\n",
        "\n",
        "#  2.33 is a typical value for H2-He dominated atmospheres\n",
        "mean_molar_masses = 2.33 * np.ones(temperatures.size)"
      ]
    },
    {
      "cell_type": "code",
      "execution_count": null,
      "id": "98d98ccc-8124-4842-bd52-6edef1b5a226",
      "metadata": {
        "id": "98d98ccc-8124-4842-bd52-6edef1b5a226"
      },
      "outputs": [],
      "source": [
        "wavelengths, transit_radii, _ = radtrans.calculate_transit_radii(\n",
        "    temperatures=temperatures,\n",
        "    mass_fractions=mass_fractions,\n",
        "    mean_molar_masses=mean_molar_masses,\n",
        "    reference_gravity=planet.reference_gravity,\n",
        "    planet_radius=planet.radius,\n",
        "    reference_pressure=planet.reference_pressure\n",
        ")"
      ]
    },
    {
      "cell_type": "markdown",
      "id": "b4ca9734-8090-4c23-a0e5-d773c26394c3",
      "metadata": {
        "id": "b4ca9734-8090-4c23-a0e5-d773c26394c3"
      },
      "source": [
        "## Visualise model atmosphere"
      ]
    },
    {
      "cell_type": "code",
      "execution_count": null,
      "id": "296bdddf-21c5-4856-83f9-8f3ffde53894",
      "metadata": {
        "id": "296bdddf-21c5-4856-83f9-8f3ffde53894"
      },
      "outputs": [],
      "source": [
        "# plot observational data and model spectrum\n",
        "\n"
      ]
    },
    {
      "cell_type": "markdown",
      "id": "6aaa3812-af71-4d21-85cb-2399f1031411",
      "metadata": {
        "id": "6aaa3812-af71-4d21-85cb-2399f1031411"
      },
      "source": [
        "## Test molecules one by one"
      ]
    },
    {
      "cell_type": "code",
      "execution_count": null,
      "id": "2b0de591-1cb7-441f-955e-2fea3de4db72",
      "metadata": {
        "id": "2b0de591-1cb7-441f-955e-2fea3de4db72"
      },
      "outputs": [],
      "source": [
        "# eg H2O\n",
        "radtrans = Radtrans(\n",
        "    pressures=np.logspace(-6, 2, 100),\n",
        "    line_species=[\n",
        "        'H2O',\n",
        "         ],\n",
        "    rayleigh_species=['H2', 'He'],\n",
        "    gas_continuum_contributors=['H2-H2', 'H2-He'],\n",
        "    wavelength_boundaries=[0.3, 6]\n",
        ")"
      ]
    },
    {
      "cell_type": "code",
      "execution_count": null,
      "id": "338f6a46-2270-440d-80de-9f5b4d2566ca",
      "metadata": {
        "id": "338f6a46-2270-440d-80de-9f5b4d2566ca"
      },
      "outputs": [],
      "source": [
        "# plot observational data and model spectra\n",
        "# plot spectra with varying H2O abundances"
      ]
    },
    {
      "cell_type": "code",
      "execution_count": null,
      "id": "c28a2dc1-dac9-425c-af54-e22a5c058c5e",
      "metadata": {
        "id": "c28a2dc1-dac9-425c-af54-e22a5c058c5e"
      },
      "outputs": [],
      "source": [
        "# test the imapct of varying CO2 abudnances on the spectrum and visualize it"
      ]
    },
    {
      "cell_type": "markdown",
      "id": "3e52eda6-88d3-4cff-a987-fc8879d37506",
      "metadata": {
        "id": "3e52eda6-88d3-4cff-a987-fc8879d37506"
      },
      "source": [
        "## More realistic PT profile"
      ]
    },
    {
      "cell_type": "code",
      "execution_count": null,
      "id": "1ad4a52c-d0d8-46f4-9b18-555fbc77763a",
      "metadata": {
        "id": "1ad4a52c-d0d8-46f4-9b18-555fbc77763a"
      },
      "outputs": [],
      "source": [
        "from petitRADTRANS.physics import temperature_profile_function_guillot_global"
      ]
    },
    {
      "cell_type": "code",
      "execution_count": null,
      "id": "10475d11-9454-4c4b-99b8-9d4fe0bfc3b3",
      "metadata": {
        "id": "10475d11-9454-4c4b-99b8-9d4fe0bfc3b3"
      },
      "outputs": [],
      "source": [
        "pressures_bar = radtrans.pressures * 1e-6 # cgs to bar\n",
        "infrared_mean_opacity = 0.01\n",
        "gamma = 0.4\n",
        "intrinsic_temperature = 200\n",
        "equilibrium_temperature = 1200\n",
        "\n",
        "temperatures = temperature_profile_function_guillot_global(\n",
        "    pressures=pressures_bar,\n",
        "    infrared_mean_opacity=infrared_mean_opacity,\n",
        "    gamma=gamma,\n",
        "    gravities=planet.reference_gravity,\n",
        "    intrinsic_temperature=intrinsic_temperature,\n",
        "    equilibrium_temperature=equilibrium_temperature\n",
        ")"
      ]
    },
    {
      "cell_type": "code",
      "execution_count": null,
      "id": "9dd06753-05dd-42fe-85cc-61bbe7ad0152",
      "metadata": {
        "id": "9dd06753-05dd-42fe-85cc-61bbe7ad0152"
      },
      "outputs": [],
      "source": [
        "# plot PT profile"
      ]
    },
    {
      "cell_type": "code",
      "execution_count": null,
      "id": "bf460250-326c-4d02-b3e4-7a6bc515a30f",
      "metadata": {
        "id": "bf460250-326c-4d02-b3e4-7a6bc515a30f"
      },
      "outputs": [],
      "source": [
        "mass_fractions = {\n",
        "    'H2': 0.74 * np.ones(temperatures.size),\n",
        "    'He': 0.24 * np.ones(temperatures.size),\n",
        "    ## ?? complete with moelcules you want to include\n",
        "}\n",
        "\n",
        "#  2.33 is a typical value for H2-He dominated atmospheres\n",
        "mean_molar_masses = 2.33 * np.ones(temperatures.size)"
      ]
    },
    {
      "cell_type": "code",
      "execution_count": null,
      "id": "a04eafc0-6c3e-4f3e-95ff-6b0403c13d26",
      "metadata": {
        "id": "a04eafc0-6c3e-4f3e-95ff-6b0403c13d26"
      },
      "outputs": [],
      "source": [
        "power_law_opacity_350nm = 0.008\n",
        "power_law_opacity_coefficient = -1.\n",
        "\n",
        "wavelengths, transit_radii, _ = radtrans.calculate_transit_radii(\n",
        "    temperatures=temperatures,\n",
        "    mass_fractions=mass_fractions,\n",
        "    mean_molar_masses=mean_molar_masses,\n",
        "    reference_gravity=planet.reference_gravity,\n",
        "    planet_radius=planet.radius,\n",
        "    reference_pressure=planet.reference_pressure,\n",
        "    power_law_opacity_350nm=power_law_opacity_350nm,\n",
        "    power_law_opacity_coefficient=power_law_opacity_coefficient\n",
        ")"
      ]
    },
    {
      "cell_type": "code",
      "execution_count": null,
      "id": "15a5e204-dae9-4037-85db-f127aa4c9479",
      "metadata": {
        "id": "15a5e204-dae9-4037-85db-f127aa4c9479"
      },
      "outputs": [],
      "source": [
        "# plot observational data and model spectrum"
      ]
    }
  ],
  "metadata": {
    "kernelspec": {
      "display_name": "Python 3 (ipykernel)",
      "language": "python",
      "name": "python3"
    },
    "language_info": {
      "codemirror_mode": {
        "name": "ipython",
        "version": 3
      },
      "file_extension": ".py",
      "mimetype": "text/x-python",
      "name": "python",
      "nbconvert_exporter": "python",
      "pygments_lexer": "ipython3",
      "version": "3.10.14"
    },
    "colab": {
      "provenance": [],
      "toc_visible": true
    }
  },
  "nbformat": 4,
  "nbformat_minor": 5
}