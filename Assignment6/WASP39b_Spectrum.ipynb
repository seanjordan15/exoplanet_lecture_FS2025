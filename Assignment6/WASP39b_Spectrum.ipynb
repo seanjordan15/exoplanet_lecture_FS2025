{
  "cells": [
    {
      "cell_type": "markdown",
      "id": "9e9d3cb0",
      "metadata": {
        "id": "9e9d3cb0"
      },
      "source": [
        "# Fit model atmosphere to exoplanet spectrum"
      ]
    },
    {
      "cell_type": "code",
      "execution_count": null,
      "id": "fe0dbd38",
      "metadata": {
        "id": "fe0dbd38"
      },
      "outputs": [],
      "source": [
        "#@title Imports\n",
        "\n",
        "import numpy as np\n",
        "import matplotlib.pyplot as plt\n",
        "import h5py\n",
        "import os\n"
      ]
    },
    {
      "cell_type": "markdown",
      "id": "ed88611c-454f-4e0c-9048-8da3ee23ef2b",
      "metadata": {
        "id": "ed88611c-454f-4e0c-9048-8da3ee23ef2b"
      },
      "source": [
        "## Get planet spectrum"
      ]
    },
    {
      "cell_type": "code",
      "execution_count": null,
      "id": "25b3feab-31ac-488b-aa3d-24895e9674c2",
      "metadata": {
        "collapsed": true,
        "jupyter": {
          "outputs_hidden": true
        },
        "colab": {
          "base_uri": "https://localhost:8080/"
        },
        "id": "25b3feab-31ac-488b-aa3d-24895e9674c2",
        "outputId": "2243ae59-6e2a-420d-b3af-847f421da37b"
      },
      "outputs": [
        {
          "output_type": "stream",
          "name": "stdout",
          "text": [
            "--2025-05-22 08:58:02--  https://share.phys.ethz.ch/~ipa/exoplanet_lecture_FS24/FIREFLy_transit_spec.h5\n",
            "Resolving share.phys.ethz.ch (share.phys.ethz.ch)... 129.132.80.27, 2001:67c:10ec:3dc4::39\n",
            "Connecting to share.phys.ethz.ch (share.phys.ethz.ch)|129.132.80.27|:443... connected.\n",
            "HTTP request sent, awaiting response... 200 OK\n",
            "Length: 7016 (6.9K)\n",
            "Saving to: ‘FIREFLy_transit_spec.h5.1’\n",
            "\n",
            "FIREFLy_transit_spe 100%[===================>]   6.85K  --.-KB/s    in 0s      \n",
            "\n",
            "2025-05-22 08:58:03 (1.60 GB/s) - ‘FIREFLy_transit_spec.h5.1’ saved [7016/7016]\n",
            "\n"
          ]
        }
      ],
      "source": [
        "! wget https://share.phys.ethz.ch/~ipa/exoplanet_lecture_FS24/FIREFLy_transit_spec.h5"
      ]
    },
    {
      "cell_type": "code",
      "execution_count": null,
      "id": "b60d00bb-f22b-4795-bfa9-f3d81dbc4c4a",
      "metadata": {
        "scrolled": true,
        "colab": {
          "base_uri": "https://localhost:8080/"
        },
        "id": "b60d00bb-f22b-4795-bfa9-f3d81dbc4c4a",
        "outputId": "9c72bf9b-b867-443a-c67d-4a1a6bc4bb80"
      },
      "outputs": [
        {
          "output_type": "stream",
          "name": "stdout",
          "text": [
            "Keys: <KeysViewHDF5 ['transit_depth', 'transit_depth_uncertainty', 'wavelength']>\n"
          ]
        }
      ],
      "source": [
        "# load data\n",
        "with h5py.File(\"FIREFLy_transit_spec.h5\", \"r\") as f:\n",
        "    print(\"Keys: %s\" % f.keys())\n",
        "    wav = f['wavelength'][()]\n",
        "    transit_depth = f['transit_depth'][()]\n",
        "    transit_depth_uncertainty = f['transit_depth_uncertainty'][()]"
      ]
    },
    {
      "cell_type": "code",
      "execution_count": null,
      "id": "f310273e-6f2a-4800-aef6-52c5734a91cf",
      "metadata": {
        "colab": {
          "base_uri": "https://localhost:8080/",
          "height": 447
        },
        "id": "f310273e-6f2a-4800-aef6-52c5734a91cf",
        "outputId": "5713051a-15d1-4d8e-dca1-06693d0e54ce"
      },
      "outputs": [
        {
          "output_type": "execute_result",
          "data": {
            "text/plain": [
              "<ErrorbarContainer object of 3 artists>"
            ]
          },
          "metadata": {},
          "execution_count": 19
        },
        {
          "output_type": "display_data",
          "data": {
            "text/plain": [
              "<Figure size 640x480 with 1 Axes>"
            ],
            "image/png": "[encoded data removed]"
          },
          "metadata": {}
        }
      ],
      "source": [
        "plt.figure()\n",
        "plt.errorbar(wav, transit_depth, yerr=transit_depth_uncertainty, fmt=\"o\", color=\"black\")"
      ]
    },
    {
      "cell_type": "code",
      "source": [
        "#@title Install petitRADTRANS\n",
        "!pip install meson-python ninja\n",
        "!pip install petitRADTRANS --no-build-isolation"
      ],
      "metadata": {
        "colab": {
          "base_uri": "https://localhost:8080/"
        },
        "id": "MHmHEVLxrijB",
        "outputId": "3d159d26-9ec5-4107-e41b-8fa0d9f07fb8"
      },
      "id": "MHmHEVLxrijB",
      "execution_count": null,
      "outputs": [
        {
          "output_type": "stream",
          "name": "stdout",
          "text": [
            "Requirement already satisfied: meson-python in /usr/local/lib/python3.11/dist-packages (0.18.0)\n",
            "Requirement already satisfied: ninja in /usr/local/lib/python3.11/dist-packages (1.11.1.4)\n",
            "Requirement already satisfied: meson>=0.64.0 in /usr/local/lib/python3.11/dist-packages (from meson-python) (1.8.0)\n",
            "Requirement already satisfied: packaging>=23.2 in /usr/local/lib/python3.11/dist-packages (from meson-python) (24.2)\n",
            "Requirement already satisfied: pyproject-metadata>=0.9.0 in /usr/local/lib/python3.11/dist-packages (from meson-python) (0.9.1)\n",
            "Requirement already satisfied: petitRADTRANS in /usr/local/lib/python3.11/dist-packages (3.1.3)\n",
            "Requirement already satisfied: meson-python in /usr/local/lib/python3.11/dist-packages (from petitRADTRANS) (0.18.0)\n",
            "Requirement already satisfied: ninja in /usr/local/lib/python3.11/dist-packages (from petitRADTRANS) (1.11.1.4)\n",
            "Requirement already satisfied: numpy in /usr/local/lib/python3.11/dist-packages (from petitRADTRANS) (1.26.4)\n",
            "Requirement already satisfied: scipy in /usr/local/lib/python3.11/dist-packages (from petitRADTRANS) (1.15.3)\n",
            "Requirement already satisfied: astropy>=5.2 in /usr/local/lib/python3.11/dist-packages (from petitRADTRANS) (6.1.7)\n",
            "Requirement already satisfied: molmass in /usr/local/lib/python3.11/dist-packages (from petitRADTRANS) (2025.4.14)\n",
            "Requirement already satisfied: h5py in /usr/local/lib/python3.11/dist-packages (from petitRADTRANS) (3.13.0)\n",
            "Requirement already satisfied: pymultinest in /usr/local/lib/python3.11/dist-packages (from petitRADTRANS) (2.12)\n",
            "Requirement already satisfied: pyvo in /usr/local/lib/python3.11/dist-packages (from petitRADTRANS) (1.6.2)\n",
            "Requirement already satisfied: bs4 in /usr/local/lib/python3.11/dist-packages (from petitRADTRANS) (0.0.2)\n",
            "Requirement already satisfied: selenium in /usr/local/lib/python3.11/dist-packages (from petitRADTRANS) (4.32.0)\n",
            "Requirement already satisfied: exo_k in /usr/local/lib/python3.11/dist-packages (from petitRADTRANS) (1.3.0)\n",
            "Requirement already satisfied: pyerfa>=2.0.1.1 in /usr/local/lib/python3.11/dist-packages (from astropy>=5.2->petitRADTRANS) (2.0.1.5)\n",
            "Requirement already satisfied: astropy-iers-data>=0.2024.10.28.0.34.7 in /usr/local/lib/python3.11/dist-packages (from astropy>=5.2->petitRADTRANS) (0.2025.5.12.0.38.29)\n",
            "Requirement already satisfied: PyYAML>=3.13 in /usr/local/lib/python3.11/dist-packages (from astropy>=5.2->petitRADTRANS) (6.0.2)\n",
            "Requirement already satisfied: packaging>=19.0 in /usr/local/lib/python3.11/dist-packages (from astropy>=5.2->petitRADTRANS) (24.2)\n",
            "Requirement already satisfied: beautifulsoup4 in /usr/local/lib/python3.11/dist-packages (from bs4->petitRADTRANS) (4.13.4)\n",
            "Requirement already satisfied: matplotlib>3.7.3 in /usr/local/lib/python3.11/dist-packages (from exo_k->petitRADTRANS) (3.10.0)\n",
            "Requirement already satisfied: nestle<0.3.0,>=0.2.0 in /usr/local/lib/python3.11/dist-packages (from exo_k->petitRADTRANS) (0.2.0)\n",
            "Requirement already satisfied: netCDF4<=1.6.5 in /usr/local/lib/python3.11/dist-packages (from exo_k->petitRADTRANS) (1.6.5)\n",
            "Requirement already satisfied: numba>=0.58 in /usr/local/lib/python3.11/dist-packages (from exo_k->petitRADTRANS) (0.60.0)\n",
            "Requirement already satisfied: pandas<3.0,>=2.0 in /usr/local/lib/python3.11/dist-packages (from exo_k->petitRADTRANS) (2.2.2)\n",
            "Requirement already satisfied: typing-extensions<5.0.0,>=4.12.2 in /usr/local/lib/python3.11/dist-packages (from exo_k->petitRADTRANS) (4.13.2)\n",
            "Requirement already satisfied: meson>=0.64.0 in /usr/local/lib/python3.11/dist-packages (from meson-python->petitRADTRANS) (1.8.0)\n",
            "Requirement already satisfied: pyproject-metadata>=0.9.0 in /usr/local/lib/python3.11/dist-packages (from meson-python->petitRADTRANS) (0.9.1)\n",
            "Requirement already satisfied: requests in /usr/local/lib/python3.11/dist-packages (from pyvo->petitRADTRANS) (2.32.3)\n",
            "Requirement already satisfied: urllib3<3,>=1.26 in /usr/local/lib/python3.11/dist-packages (from urllib3[socks]<3,>=1.26->selenium->petitRADTRANS) (2.4.0)\n",
            "Requirement already satisfied: trio~=0.17 in /usr/local/lib/python3.11/dist-packages (from selenium->petitRADTRANS) (0.30.0)\n",
            "Requirement already satisfied: trio-websocket~=0.9 in /usr/local/lib/python3.11/dist-packages (from selenium->petitRADTRANS) (0.12.2)\n",
            "Requirement already satisfied: certifi>=2021.10.8 in /usr/local/lib/python3.11/dist-packages (from selenium->petitRADTRANS) (2025.4.26)\n",
            "Requirement already satisfied: websocket-client~=1.8 in /usr/local/lib/python3.11/dist-packages (from selenium->petitRADTRANS) (1.8.0)\n",
            "Requirement already satisfied: contourpy>=1.0.1 in /usr/local/lib/python3.11/dist-packages (from matplotlib>3.7.3->exo_k->petitRADTRANS) (1.3.2)\n",
            "Requirement already satisfied: cycler>=0.10 in /usr/local/lib/python3.11/dist-packages (from matplotlib>3.7.3->exo_k->petitRADTRANS) (0.12.1)\n",
            "Requirement already satisfied: fonttools>=4.22.0 in /usr/local/lib/python3.11/dist-packages (from matplotlib>3.7.3->exo_k->petitRADTRANS) (4.58.0)\n",
            "Requirement already satisfied: kiwisolver>=1.3.1 in /usr/local/lib/python3.11/dist-packages (from matplotlib>3.7.3->exo_k->petitRADTRANS) (1.4.8)\n",
            "Requirement already satisfied: pillow>=8 in /usr/local/lib/python3.11/dist-packages (from matplotlib>3.7.3->exo_k->petitRADTRANS) (11.2.1)\n",
            "Requirement already satisfied: pyparsing>=2.3.1 in /usr/local/lib/python3.11/dist-packages (from matplotlib>3.7.3->exo_k->petitRADTRANS) (3.2.3)\n",
            "Requirement already satisfied: python-dateutil>=2.7 in /usr/local/lib/python3.11/dist-packages (from matplotlib>3.7.3->exo_k->petitRADTRANS) (2.9.0.post0)\n",
            "Requirement already satisfied: cftime in /usr/local/lib/python3.11/dist-packages (from netCDF4<=1.6.5->exo_k->petitRADTRANS) (1.6.4.post1)\n",
            "Requirement already satisfied: llvmlite<0.44,>=0.43.0dev0 in /usr/local/lib/python3.11/dist-packages (from numba>=0.58->exo_k->petitRADTRANS) (0.43.0)\n",
            "Requirement already satisfied: pytz>=2020.1 in /usr/local/lib/python3.11/dist-packages (from pandas<3.0,>=2.0->exo_k->petitRADTRANS) (2025.2)\n",
            "Requirement already satisfied: tzdata>=2022.7 in /usr/local/lib/python3.11/dist-packages (from pandas<3.0,>=2.0->exo_k->petitRADTRANS) (2025.2)\n",
            "Requirement already satisfied: attrs>=23.2.0 in /usr/local/lib/python3.11/dist-packages (from trio~=0.17->selenium->petitRADTRANS) (25.3.0)\n",
            "Requirement already satisfied: sortedcontainers in /usr/local/lib/python3.11/dist-packages (from trio~=0.17->selenium->petitRADTRANS) (2.4.0)\n",
            "Requirement already satisfied: idna in /usr/local/lib/python3.11/dist-packages (from trio~=0.17->selenium->petitRADTRANS) (3.10)\n",
            "Requirement already satisfied: outcome in /usr/local/lib/python3.11/dist-packages (from trio~=0.17->selenium->petitRADTRANS) (1.3.0.post0)\n",
            "Requirement already satisfied: sniffio>=1.3.0 in /usr/local/lib/python3.11/dist-packages (from trio~=0.17->selenium->petitRADTRANS) (1.3.1)\n",
            "Requirement already satisfied: wsproto>=0.14 in /usr/local/lib/python3.11/dist-packages (from trio-websocket~=0.9->selenium->petitRADTRANS) (1.2.0)\n",
            "Requirement already satisfied: pysocks!=1.5.7,<2.0,>=1.5.6 in /usr/local/lib/python3.11/dist-packages (from urllib3[socks]<3,>=1.26->selenium->petitRADTRANS) (1.7.1)\n",
            "Requirement already satisfied: soupsieve>1.2 in /usr/local/lib/python3.11/dist-packages (from beautifulsoup4->bs4->petitRADTRANS) (2.7)\n",
            "Requirement already satisfied: charset-normalizer<4,>=2 in /usr/local/lib/python3.11/dist-packages (from requests->pyvo->petitRADTRANS) (3.4.2)\n",
            "Requirement already satisfied: six>=1.5 in /usr/local/lib/python3.11/dist-packages (from python-dateutil>=2.7->matplotlib>3.7.3->exo_k->petitRADTRANS) (1.17.0)\n",
            "Requirement already satisfied: h11<1,>=0.9.0 in /usr/local/lib/python3.11/dist-packages (from wsproto>=0.14->trio-websocket~=0.9->selenium->petitRADTRANS) (0.16.0)\n"
          ]
        }
      ]
    },
    {
      "cell_type": "markdown",
      "id": "4f62a6aa-9e20-4423-9e6c-89f330b0c544",
      "metadata": {
        "id": "4f62a6aa-9e20-4423-9e6c-89f330b0c544"
      },
      "source": [
        "## Import petitRADTRANS package"
      ]
    },
    {
      "cell_type": "code",
      "execution_count": null,
      "id": "540b0730",
      "metadata": {
        "id": "540b0730",
        "colab": {
          "base_uri": "https://localhost:8080/",
          "height": 350
        },
        "outputId": "77577c9a-64e6-4d3e-fb09-12dba620f604"
      },
      "outputs": [
        {
          "output_type": "error",
          "ename": "ValueError",
          "evalue": "numpy.dtype size changed, may indicate binary incompatibility. Expected 96 from C header, got 88 from PyObject",
          "traceback": [
            "\u001b[0;31m---------------------------------------------------------------------------\u001b[0m",
            "\u001b[0;31mValueError\u001b[0m                                Traceback (most recent call last)",
            "\u001b[0;32m<ipython-input-21-06c0a059b4ba>\u001b[0m in \u001b[0;36m<cell line: 0>\u001b[0;34m()\u001b[0m\n\u001b[1;32m      1\u001b[0m \u001b[0;32mimport\u001b[0m \u001b[0mpetitRADTRANS\u001b[0m\u001b[0;34m\u001b[0m\u001b[0;34m\u001b[0m\u001b[0m\n\u001b[0;32m----> 2\u001b[0;31m \u001b[0;32mfrom\u001b[0m \u001b[0mpetitRADTRANS\u001b[0m\u001b[0;34m.\u001b[0m\u001b[0mradtrans\u001b[0m \u001b[0;32mimport\u001b[0m \u001b[0mRadtrans\u001b[0m\u001b[0;34m\u001b[0m\u001b[0;34m\u001b[0m\u001b[0m\n\u001b[0m\u001b[1;32m      3\u001b[0m \u001b[0;32mfrom\u001b[0m \u001b[0mpetitRADTRANS\u001b[0m \u001b[0;32mimport\u001b[0m \u001b[0mphysical_constants\u001b[0m \u001b[0;32mas\u001b[0m \u001b[0mcst\u001b[0m\u001b[0;34m\u001b[0m\u001b[0;34m\u001b[0m\u001b[0m\n",
            "\u001b[0;32m/usr/local/lib/python3.11/dist-packages/petitRADTRANS/radtrans.py\u001b[0m in \u001b[0;36m<module>\u001b[0;34m\u001b[0m\n\u001b[1;32m      7\u001b[0m \u001b[0;32mimport\u001b[0m \u001b[0mnumpy\u001b[0m \u001b[0;32mas\u001b[0m \u001b[0mnp\u001b[0m\u001b[0;34m\u001b[0m\u001b[0;34m\u001b[0m\u001b[0m\n\u001b[1;32m      8\u001b[0m \u001b[0;32mimport\u001b[0m \u001b[0mnumpy\u001b[0m\u001b[0;34m.\u001b[0m\u001b[0mtyping\u001b[0m \u001b[0;32mas\u001b[0m \u001b[0mnpt\u001b[0m\u001b[0;34m\u001b[0m\u001b[0;34m\u001b[0m\u001b[0m\n\u001b[0;32m----> 9\u001b[0;31m \u001b[0;32mfrom\u001b[0m \u001b[0mscipy\u001b[0m\u001b[0;34m.\u001b[0m\u001b[0minterpolate\u001b[0m \u001b[0;32mimport\u001b[0m \u001b[0minterp1d\u001b[0m\u001b[0;34m\u001b[0m\u001b[0;34m\u001b[0m\u001b[0m\n\u001b[0m\u001b[1;32m     10\u001b[0m \u001b[0;34m\u001b[0m\u001b[0m\n\u001b[1;32m     11\u001b[0m \u001b[0;32mfrom\u001b[0m \u001b[0mpetitRADTRANS\u001b[0m \u001b[0;32mimport\u001b[0m \u001b[0mphysical_constants\u001b[0m \u001b[0;32mas\u001b[0m \u001b[0mcst\u001b[0m\u001b[0;34m\u001b[0m\u001b[0;34m\u001b[0m\u001b[0m\n",
            "\u001b[0;32m/usr/local/lib/python3.11/dist-packages/scipy/interpolate/__init__.py\u001b[0m in \u001b[0;36m<module>\u001b[0;34m\u001b[0m\n\u001b[1;32m    177\u001b[0m \u001b[0;34m(\u001b[0m\u001b[0mshould\u001b[0m \u001b[0;32mnot\u001b[0m \u001b[0mbe\u001b[0m \u001b[0mused\u001b[0m \u001b[0;32min\u001b[0m \u001b[0mnew\u001b[0m \u001b[0mcode\u001b[0m\u001b[0;34m)\u001b[0m\u001b[0;34m.\u001b[0m\u001b[0;34m\u001b[0m\u001b[0;34m\u001b[0m\u001b[0m\n\u001b[1;32m    178\u001b[0m \"\"\"\n\u001b[0;32m--> 179\u001b[0;31m \u001b[0;32mfrom\u001b[0m \u001b[0;34m.\u001b[0m\u001b[0m_interpolate\u001b[0m \u001b[0;32mimport\u001b[0m \u001b[0;34m*\u001b[0m\u001b[0;34m\u001b[0m\u001b[0;34m\u001b[0m\u001b[0m\n\u001b[0m\u001b[1;32m    180\u001b[0m \u001b[0;32mfrom\u001b[0m \u001b[0;34m.\u001b[0m\u001b[0m_fitpack_py\u001b[0m \u001b[0;32mimport\u001b[0m \u001b[0;34m*\u001b[0m\u001b[0;34m\u001b[0m\u001b[0;34m\u001b[0m\u001b[0m\n\u001b[1;32m    181\u001b[0m \u001b[0;34m\u001b[0m\u001b[0m\n",
            "\u001b[0;32m/usr/local/lib/python3.11/dist-packages/scipy/interpolate/_interpolate.py\u001b[0m in \u001b[0;36m<module>\u001b[0;34m\u001b[0m\n\u001b[1;32m      6\u001b[0m \u001b[0;32mfrom\u001b[0m \u001b[0mnumpy\u001b[0m \u001b[0;32mimport\u001b[0m \u001b[0marray\u001b[0m\u001b[0;34m,\u001b[0m \u001b[0masarray\u001b[0m\u001b[0;34m,\u001b[0m \u001b[0mintp\u001b[0m\u001b[0;34m,\u001b[0m \u001b[0mpoly1d\u001b[0m\u001b[0;34m,\u001b[0m \u001b[0msearchsorted\u001b[0m\u001b[0;34m\u001b[0m\u001b[0;34m\u001b[0m\u001b[0m\n\u001b[1;32m      7\u001b[0m \u001b[0;34m\u001b[0m\u001b[0m\n\u001b[0;32m----> 8\u001b[0;31m \u001b[0;32mimport\u001b[0m \u001b[0mscipy\u001b[0m\u001b[0;34m.\u001b[0m\u001b[0mspecial\u001b[0m \u001b[0;32mas\u001b[0m \u001b[0mspec\u001b[0m\u001b[0;34m\u001b[0m\u001b[0;34m\u001b[0m\u001b[0m\n\u001b[0m\u001b[1;32m      9\u001b[0m \u001b[0;32mfrom\u001b[0m \u001b[0mscipy\u001b[0m\u001b[0;34m.\u001b[0m\u001b[0m_lib\u001b[0m\u001b[0;34m.\u001b[0m\u001b[0m_util\u001b[0m \u001b[0;32mimport\u001b[0m \u001b[0mcopy_if_needed\u001b[0m\u001b[0;34m\u001b[0m\u001b[0;34m\u001b[0m\u001b[0m\n\u001b[1;32m     10\u001b[0m \u001b[0;32mfrom\u001b[0m \u001b[0mscipy\u001b[0m\u001b[0;34m.\u001b[0m\u001b[0mspecial\u001b[0m \u001b[0;32mimport\u001b[0m \u001b[0mcomb\u001b[0m\u001b[0;34m\u001b[0m\u001b[0;34m\u001b[0m\u001b[0m\n",
            "\u001b[0;32m/usr/local/lib/python3.11/dist-packages/scipy/special/__init__.py\u001b[0m in \u001b[0;36m<module>\u001b[0;34m\u001b[0m\n\u001b[1;32m    819\u001b[0m \u001b[0;34m\u001b[0m\u001b[0m\n\u001b[1;32m    820\u001b[0m \u001b[0;31m# Replace some function definitions from _ufuncs to add Array API support\u001b[0m\u001b[0;34m\u001b[0m\u001b[0;34m\u001b[0m\u001b[0m\n\u001b[0;32m--> 821\u001b[0;31m from ._support_alternative_backends import (\n\u001b[0m\u001b[1;32m    822\u001b[0m     \u001b[0mlog_ndtr\u001b[0m\u001b[0;34m,\u001b[0m \u001b[0mndtr\u001b[0m\u001b[0;34m,\u001b[0m \u001b[0mndtri\u001b[0m\u001b[0;34m,\u001b[0m \u001b[0merf\u001b[0m\u001b[0;34m,\u001b[0m \u001b[0merfc\u001b[0m\u001b[0;34m,\u001b[0m \u001b[0mi0\u001b[0m\u001b[0;34m,\u001b[0m \u001b[0mi0e\u001b[0m\u001b[0;34m,\u001b[0m \u001b[0mi1\u001b[0m\u001b[0;34m,\u001b[0m \u001b[0mi1e\u001b[0m\u001b[0;34m,\u001b[0m \u001b[0mgammaln\u001b[0m\u001b[0;34m,\u001b[0m\u001b[0;34m\u001b[0m\u001b[0;34m\u001b[0m\u001b[0m\n\u001b[1;32m    823\u001b[0m     \u001b[0mgammainc\u001b[0m\u001b[0;34m,\u001b[0m \u001b[0mgammaincc\u001b[0m\u001b[0;34m,\u001b[0m \u001b[0mlogit\u001b[0m\u001b[0;34m,\u001b[0m \u001b[0mexpit\u001b[0m\u001b[0;34m,\u001b[0m \u001b[0mentr\u001b[0m\u001b[0;34m,\u001b[0m \u001b[0mrel_entr\u001b[0m\u001b[0;34m,\u001b[0m \u001b[0mxlogy\u001b[0m\u001b[0;34m,\u001b[0m\u001b[0;34m\u001b[0m\u001b[0;34m\u001b[0m\u001b[0m\n",
            "\u001b[0;32m/usr/local/lib/python3.11/dist-packages/scipy/special/_support_alternative_backends.py\u001b[0m in \u001b[0;36m<module>\u001b[0;34m\u001b[0m\n\u001b[1;32m      4\u001b[0m \u001b[0;34m\u001b[0m\u001b[0m\n\u001b[1;32m      5\u001b[0m \u001b[0;32mimport\u001b[0m \u001b[0mnumpy\u001b[0m \u001b[0;32mas\u001b[0m \u001b[0mnp\u001b[0m\u001b[0;34m\u001b[0m\u001b[0;34m\u001b[0m\u001b[0m\n\u001b[0;32m----> 6\u001b[0;31m from scipy._lib._array_api import (\n\u001b[0m\u001b[1;32m      7\u001b[0m     \u001b[0marray_namespace\u001b[0m\u001b[0;34m,\u001b[0m \u001b[0mscipy_namespace_for\u001b[0m\u001b[0;34m,\u001b[0m \u001b[0mis_numpy\u001b[0m\u001b[0;34m\u001b[0m\u001b[0;34m\u001b[0m\u001b[0m\n\u001b[1;32m      8\u001b[0m )\n",
            "\u001b[0;32m/usr/local/lib/python3.11/dist-packages/scipy/_lib/_array_api.py\u001b[0m in \u001b[0;36m<module>\u001b[0;34m\u001b[0m\n\u001b[1;32m     16\u001b[0m \u001b[0;34m\u001b[0m\u001b[0m\n\u001b[1;32m     17\u001b[0m \u001b[0;32mfrom\u001b[0m \u001b[0mscipy\u001b[0m\u001b[0;34m.\u001b[0m\u001b[0m_lib\u001b[0m \u001b[0;32mimport\u001b[0m \u001b[0marray_api_compat\u001b[0m\u001b[0;34m\u001b[0m\u001b[0;34m\u001b[0m\u001b[0m\n\u001b[0;32m---> 18\u001b[0;31m from scipy._lib.array_api_compat import (\n\u001b[0m\u001b[1;32m     19\u001b[0m     \u001b[0mis_array_api_obj\u001b[0m\u001b[0;34m,\u001b[0m\u001b[0;34m\u001b[0m\u001b[0;34m\u001b[0m\u001b[0m\n\u001b[1;32m     20\u001b[0m     \u001b[0msize\u001b[0m \u001b[0;32mas\u001b[0m \u001b[0mxp_size\u001b[0m\u001b[0;34m,\u001b[0m\u001b[0;34m\u001b[0m\u001b[0;34m\u001b[0m\u001b[0m\n",
            "\u001b[0;32m/usr/local/lib/python3.11/dist-packages/scipy/_lib/array_api_compat/numpy/__init__.py\u001b[0m in \u001b[0;36m<module>\u001b[0;34m\u001b[0m\n\u001b[0;32m----> 1\u001b[0;31m \u001b[0;32mfrom\u001b[0m \u001b[0mnumpy\u001b[0m \u001b[0;32mimport\u001b[0m \u001b[0;34m*\u001b[0m \u001b[0;31m# noqa: F403\u001b[0m\u001b[0;34m\u001b[0m\u001b[0;34m\u001b[0m\u001b[0m\n\u001b[0m\u001b[1;32m      2\u001b[0m \u001b[0;34m\u001b[0m\u001b[0m\n\u001b[1;32m      3\u001b[0m \u001b[0;31m# from numpy import * doesn't overwrite these builtin names\u001b[0m\u001b[0;34m\u001b[0m\u001b[0;34m\u001b[0m\u001b[0m\n\u001b[1;32m      4\u001b[0m \u001b[0;32mfrom\u001b[0m \u001b[0mnumpy\u001b[0m \u001b[0;32mimport\u001b[0m \u001b[0mabs\u001b[0m\u001b[0;34m,\u001b[0m \u001b[0mmax\u001b[0m\u001b[0;34m,\u001b[0m \u001b[0mmin\u001b[0m\u001b[0;34m,\u001b[0m \u001b[0mround\u001b[0m \u001b[0;31m# noqa: F401\u001b[0m\u001b[0;34m\u001b[0m\u001b[0;34m\u001b[0m\u001b[0m\n\u001b[1;32m      5\u001b[0m \u001b[0;34m\u001b[0m\u001b[0m\n",
            "\u001b[0;32m/usr/lib/python3.11/importlib/_bootstrap.py\u001b[0m in \u001b[0;36m_handle_fromlist\u001b[0;34m(module, fromlist, import_, recursive)\u001b[0m\n",
            "\u001b[0;32m/usr/lib/python3.11/importlib/_bootstrap.py\u001b[0m in \u001b[0;36m_handle_fromlist\u001b[0;34m(module, fromlist, import_, recursive)\u001b[0m\n",
            "\u001b[0;32m/usr/local/lib/python3.11/dist-packages/numpy/__init__.py\u001b[0m in \u001b[0;36m__getattr__\u001b[0;34m(attr)\u001b[0m\n\u001b[1;32m    335\u001b[0m \u001b[0;34m\u001b[0m\u001b[0m\n\u001b[1;32m    336\u001b[0m     \u001b[0;32mdef\u001b[0m \u001b[0m__dir__\u001b[0m\u001b[0;34m(\u001b[0m\u001b[0;34m)\u001b[0m\u001b[0;34m:\u001b[0m\u001b[0;34m\u001b[0m\u001b[0;34m\u001b[0m\u001b[0m\n\u001b[0;32m--> 337\u001b[0;31m         \u001b[0mpublic_symbols\u001b[0m \u001b[0;34m=\u001b[0m \u001b[0mglobals\u001b[0m\u001b[0;34m(\u001b[0m\u001b[0;34m)\u001b[0m\u001b[0;34m.\u001b[0m\u001b[0mkeys\u001b[0m\u001b[0;34m(\u001b[0m\u001b[0;34m)\u001b[0m \u001b[0;34m|\u001b[0m \u001b[0;34m{\u001b[0m\u001b[0;34m'testing'\u001b[0m\u001b[0;34m}\u001b[0m\u001b[0;34m\u001b[0m\u001b[0;34m\u001b[0m\u001b[0m\n\u001b[0m\u001b[1;32m    338\u001b[0m         public_symbols -= {\n\u001b[1;32m    339\u001b[0m             \u001b[0;34m\"core\"\u001b[0m\u001b[0;34m,\u001b[0m \u001b[0;34m\"matrixlib\"\u001b[0m\u001b[0;34m,\u001b[0m\u001b[0;34m\u001b[0m\u001b[0;34m\u001b[0m\u001b[0m\n",
            "\u001b[0;32m/usr/local/lib/python3.11/dist-packages/numpy/random/__init__.py\u001b[0m in \u001b[0;36m<module>\u001b[0;34m\u001b[0m\n\u001b[1;32m    178\u001b[0m \u001b[0;34m\u001b[0m\u001b[0m\n\u001b[1;32m    179\u001b[0m \u001b[0;31m# add these for module-freeze analysis (like PyInstaller)\u001b[0m\u001b[0;34m\u001b[0m\u001b[0;34m\u001b[0m\u001b[0m\n\u001b[0;32m--> 180\u001b[0;31m \u001b[0;32mfrom\u001b[0m \u001b[0;34m.\u001b[0m \u001b[0;32mimport\u001b[0m \u001b[0m_pickle\u001b[0m\u001b[0;34m\u001b[0m\u001b[0;34m\u001b[0m\u001b[0m\n\u001b[0m\u001b[1;32m    181\u001b[0m \u001b[0;32mfrom\u001b[0m \u001b[0;34m.\u001b[0m \u001b[0;32mimport\u001b[0m \u001b[0m_common\u001b[0m\u001b[0;34m\u001b[0m\u001b[0;34m\u001b[0m\u001b[0m\n\u001b[1;32m    182\u001b[0m \u001b[0;32mfrom\u001b[0m \u001b[0;34m.\u001b[0m \u001b[0;32mimport\u001b[0m \u001b[0m_bounded_integers\u001b[0m\u001b[0;34m\u001b[0m\u001b[0;34m\u001b[0m\u001b[0m\n",
            "\u001b[0;32m/usr/local/lib/python3.11/dist-packages/numpy/random/_pickle.py\u001b[0m in \u001b[0;36m<module>\u001b[0;34m\u001b[0m\n\u001b[0;32m----> 1\u001b[0;31m \u001b[0;32mfrom\u001b[0m \u001b[0;34m.\u001b[0m\u001b[0mmtrand\u001b[0m \u001b[0;32mimport\u001b[0m \u001b[0mRandomState\u001b[0m\u001b[0;34m\u001b[0m\u001b[0;34m\u001b[0m\u001b[0m\n\u001b[0m\u001b[1;32m      2\u001b[0m \u001b[0;32mfrom\u001b[0m \u001b[0;34m.\u001b[0m\u001b[0m_philox\u001b[0m \u001b[0;32mimport\u001b[0m \u001b[0mPhilox\u001b[0m\u001b[0;34m\u001b[0m\u001b[0;34m\u001b[0m\u001b[0m\n\u001b[1;32m      3\u001b[0m \u001b[0;32mfrom\u001b[0m \u001b[0;34m.\u001b[0m\u001b[0m_pcg64\u001b[0m \u001b[0;32mimport\u001b[0m \u001b[0mPCG64\u001b[0m\u001b[0;34m,\u001b[0m \u001b[0mPCG64DXSM\u001b[0m\u001b[0;34m\u001b[0m\u001b[0;34m\u001b[0m\u001b[0m\n\u001b[1;32m      4\u001b[0m \u001b[0;32mfrom\u001b[0m \u001b[0;34m.\u001b[0m\u001b[0m_sfc64\u001b[0m \u001b[0;32mimport\u001b[0m \u001b[0mSFC64\u001b[0m\u001b[0;34m\u001b[0m\u001b[0;34m\u001b[0m\u001b[0m\n\u001b[1;32m      5\u001b[0m \u001b[0;34m\u001b[0m\u001b[0m\n",
            "\u001b[0;32mnumpy/random/mtrand.pyx\u001b[0m in \u001b[0;36minit numpy.random.mtrand\u001b[0;34m()\u001b[0m\n",
            "\u001b[0;31mValueError\u001b[0m: numpy.dtype size changed, may indicate binary incompatibility. Expected 96 from C header, got 88 from PyObject"
          ]
        }
      ],
      "source": [
        "import petitRADTRANS\n",
        "from petitRADTRANS.radtrans import Radtrans\n",
        "from petitRADTRANS import physical_constants as cst"
      ]
    },
    {
      "cell_type": "code",
      "execution_count": null,
      "id": "0d42befc-deed-45e6-bcc7-d65d18948089",
      "metadata": {
        "id": "0d42befc-deed-45e6-bcc7-d65d18948089"
      },
      "outputs": [],
      "source": [
        "from petitRADTRANS.config.configuration import petitradtrans_config_parser"
      ]
    },
    {
      "cell_type": "code",
      "source": [
        "# from google.colab import drive\n",
        "# drive.mount('/content/drive')"
      ],
      "metadata": {
        "id": "Y-qdO6p3-R94"
      },
      "id": "Y-qdO6p3-R94",
      "execution_count": null,
      "outputs": []
    },
    {
      "cell_type": "code",
      "source": [
        "# Define input folder for opacities\n",
        "# os.mkdir(\"input_data\")\n",
        "\n",
        "from google.colab import drive\n",
        "drive.mount('/content/drive')\n",
        "\n",
        "# set folder in petitRADTRANS config file\n",
        "petitradtrans_config_parser.set_input_data_path('./drive/MyDrive/')\n",
        "#petitradtrans_config_parser.set_input_data_path('./')\n",
        "\n",
        "# # if you are using your google drive to access the input_data folder\n",
        "# # first mount your drive\n",
        "# from google.colab import drive\n",
        "# drive.mount('/content/drive')\n",
        "# # set the folder path to\n",
        "# petitradtrans_config_parser.set_input_data_path('./drive/MyDrive/')"
      ],
      "metadata": {
        "id": "WkvQeTR7Vxx0"
      },
      "id": "WkvQeTR7Vxx0",
      "execution_count": null,
      "outputs": []
    },
    {
      "cell_type": "markdown",
      "id": "ca6ea1c2-a4a9-43da-b909-e0ef924cd522",
      "metadata": {
        "id": "ca6ea1c2-a4a9-43da-b909-e0ef924cd522"
      },
      "source": [
        "## Initialize Radtrans Object\n",
        "For this opacity files need to be loaded from the input_data folder.\n"
      ]
    },
    {
      "cell_type": "code",
      "source": [
        "# from selenium import webdriver\n",
        "# from selenium.webdriver.chrome.options import Options\n",
        "# from selenium.webdriver.chrome.service import Service"
      ],
      "metadata": {
        "id": "0JbZE818VrQn"
      },
      "id": "0JbZE818VrQn",
      "execution_count": null,
      "outputs": []
    },
    {
      "cell_type": "code",
      "source": [
        "# Install necessary packages\n",
        "# !apt update\n",
        "# !apt install chromium-chromedriver\n",
        "# !cp /usr/lib/chromium-browser/chromedriver /usr/bin\n",
        "# !pip install selenium\n",
        "\n",
        "# # Configure Selenium\n",
        "# from selenium import webdriver\n",
        "# from selenium.webdriver.chrome.options import Options\n",
        "# from selenium.webdriver.chrome.service import Service\n",
        "\n",
        "# chrome_options = Options()\n",
        "# chrome_options.add_argument('--headless')\n",
        "# chrome_options.add_argument('--no-sandbox')\n",
        "# chrome_options.add_argument('--disable-dev-shm-usage')\n",
        "\n",
        "# driver = webdriver.Chrome(options=chrome_options)\n",
        "\n",
        "# # Test\n",
        "# driver.get('https://www.google.com')\n",
        "# print(driver.title)\n",
        "\n",
        "#Load opcities\n",
        "radtrans = Radtrans(\n",
        "pressures=np.logspace(-6, 2, 100),\n",
        "line_species=[\n",
        "    'H2O',\n",
        "    'CO-NatAbund',\n",
        "    'CH4',\n",
        "    'CO2',\n",
        "    'Na',\n",
        "    'K'\n",
        "],\n",
        "rayleigh_species=['H2', 'He'],\n",
        "gas_continuum_contributors=['H2-H2', 'H2-He'],\n",
        "wavelength_boundaries=[0.3, 6]\n",
        ")\n",
        "\n",
        "# driver.quit()"
      ],
      "metadata": {
        "id": "KEvlqiahTUU6"
      },
      "id": "KEvlqiahTUU6",
      "execution_count": null,
      "outputs": []
    },
    {
      "cell_type": "markdown",
      "id": "c177e021-04ac-41b7-aa5d-8c1148b6627a",
      "metadata": {
        "id": "c177e021-04ac-41b7-aa5d-8c1148b6627a"
      },
      "source": [
        "### Get planet data"
      ]
    },
    {
      "cell_type": "code",
      "execution_count": null,
      "id": "0c26fd0a-138e-4d18-9eb4-931656af8995",
      "metadata": {
        "id": "0c26fd0a-138e-4d18-9eb4-931656af8995"
      },
      "outputs": [],
      "source": [
        "from petitRADTRANS.planet import Planet"
      ]
    },
    {
      "cell_type": "code",
      "execution_count": null,
      "id": "71ec5a58-082b-4f6e-a261-d9267995981a",
      "metadata": {
        "id": "71ec5a58-082b-4f6e-a261-d9267995981a"
      },
      "outputs": [],
      "source": [
        "planet = Planet.get('WASP-39 b')"
      ]
    },
    {
      "cell_type": "code",
      "execution_count": null,
      "id": "30c374f2-7510-4519-a026-4944fbbf940d",
      "metadata": {
        "id": "30c374f2-7510-4519-a026-4944fbbf940d"
      },
      "outputs": [],
      "source": [
        "# Display the planet radius and its uncertainties\n",
        "print(\n",
        "    f\"{planet.name}'s radius: {planet.radius * 1e-5:.0f} \"\n",
        "    f\"+{planet.radius_error_upper * 1e-5:.0f} / {planet.radius_error_lower * 1e-5:.0f} km\"\n",
        ")"
      ]
    },
    {
      "cell_type": "markdown",
      "id": "80efdb69-af2c-4a89-9436-8bfe1fa120be",
      "metadata": {
        "id": "80efdb69-af2c-4a89-9436-8bfe1fa120be"
      },
      "source": [
        "## Calculate first atmosphere"
      ]
    },
    {
      "cell_type": "code",
      "execution_count": null,
      "id": "99792c61-2e68-4a6c-92b3-1d0d66686be7",
      "metadata": {
        "id": "99792c61-2e68-4a6c-92b3-1d0d66686be7"
      },
      "outputs": [],
      "source": [
        "temperatures = 1170 * np.ones_like(radtrans.pressures) # note that radtrans.pressures is in cgs units now, multiply by 1e-6 to get bars\n",
        "mass_fractions = {\n",
        "    'H2': 0.74 * np.ones(temperatures.size),\n",
        "    'He': 0.24 * np.ones(temperatures.size),\n",
        "    'H2O': 5e-5 * np.ones(temperatures.size),\n",
        "    'CO-NatAbund': 1e-9 * np.ones(temperatures.size),\n",
        "    'CO2': 1e-5 * np.ones(temperatures.size),\n",
        "    'CH4': 1e-7 * np.ones(temperatures.size),\n",
        "    'Na': 1e-4 * np.ones(temperatures.size),\n",
        "    'K': 1e-6 * np.ones(temperatures.size)\n",
        "}\n",
        "\n",
        "#  2.33 is a typical value for H2-He dominated atmospheres\n",
        "mean_molar_masses = 2.33 * np.ones(temperatures.size)"
      ]
    },
    {
      "cell_type": "code",
      "execution_count": null,
      "id": "5d7d1694-ccac-4fc6-8401-02afd69d6a08",
      "metadata": {
        "id": "5d7d1694-ccac-4fc6-8401-02afd69d6a08"
      },
      "outputs": [],
      "source": [
        "plt.figure()\n",
        "plt.semilogy(temperatures, radtrans.pressures)\n",
        "plt.ylabel(\"pressure\")\n",
        "plt.xlabel(\"temperature\")"
      ]
    },
    {
      "cell_type": "code",
      "execution_count": null,
      "id": "98d98ccc-8124-4842-bd52-6edef1b5a226",
      "metadata": {
        "id": "98d98ccc-8124-4842-bd52-6edef1b5a226"
      },
      "outputs": [],
      "source": [
        "wavelengths, transit_radii, _ = radtrans.calculate_transit_radii(\n",
        "    temperatures=temperatures,\n",
        "    mass_fractions=mass_fractions,\n",
        "    mean_molar_masses=mean_molar_masses,\n",
        "    reference_gravity=planet.reference_gravity,\n",
        "    planet_radius=planet.radius,\n",
        "    reference_pressure=planet.reference_pressure\n",
        ")"
      ]
    },
    {
      "cell_type": "markdown",
      "id": "b4ca9734-8090-4c23-a0e5-d773c26394c3",
      "metadata": {
        "id": "b4ca9734-8090-4c23-a0e5-d773c26394c3"
      },
      "source": [
        "## Visualise model atmosphere"
      ]
    },
    {
      "cell_type": "code",
      "execution_count": null,
      "id": "296bdddf-21c5-4856-83f9-8f3ffde53894",
      "metadata": {
        "id": "296bdddf-21c5-4856-83f9-8f3ffde53894"
      },
      "outputs": [],
      "source": [
        "fig, ax = plt.subplots(figsize = (10,6))\n",
        "\n",
        "ax.plot(wavelengths * 1e4, (transit_radii/(1.02*planet.star_radius))**2)\n",
        "ax.errorbar(wav, transit_depth, yerr=transit_depth_uncertainty, fmt=\"o\", color=\"black\")\n",
        "#ax.set_xscale('log')\n",
        "ax.set_xlabel('Wavelength [microns]')\n",
        "ax.set_ylabel(r'Transit depth')\n",
        "\n"
      ]
    },
    {
      "cell_type": "markdown",
      "id": "6aaa3812-af71-4d21-85cb-2399f1031411",
      "metadata": {
        "id": "6aaa3812-af71-4d21-85cb-2399f1031411"
      },
      "source": [
        "## Test molecules one by one"
      ]
    },
    {
      "cell_type": "code",
      "execution_count": null,
      "id": "2b0de591-1cb7-441f-955e-2fea3de4db72",
      "metadata": {
        "id": "2b0de591-1cb7-441f-955e-2fea3de4db72"
      },
      "outputs": [],
      "source": [
        "# eg H2O\n",
        "\n",
        "radtrans = Radtrans(\n",
        "    pressures=np.logspace(-6, 2, 100),\n",
        "    line_species=[\n",
        "        'H2O',\n",
        "         ],\n",
        "    rayleigh_species=['H2', 'He'],\n",
        "    gas_continuum_contributors=['H2-H2', 'H2-He'],\n",
        "    wavelength_boundaries=[0.3, 6]\n",
        ")"
      ]
    },
    {
      "cell_type": "code",
      "execution_count": null,
      "id": "338f6a46-2270-440d-80de-9f5b4d2566ca",
      "metadata": {
        "id": "338f6a46-2270-440d-80de-9f5b4d2566ca"
      },
      "outputs": [],
      "source": [
        "fig, ax = plt.subplots(figsize = (10,6))\n",
        "ax.errorbar(wav, transit_depth, yerr=transit_depth_uncertainty, fmt=\"o\", color=\"black\")\n",
        "for abund in [1e-4, 1e-3, 1e-2, 1e-1]:\n",
        "    temperatures = 1170 * np.ones_like(radtrans.pressures) # note that radtrans.pressures is in cgs units now, multiply by 1e-6 to get bars\n",
        "    mass_fractions = {\n",
        "        'H2': 0.74 * np.ones(temperatures.size),\n",
        "        'He': 0.24 * np.ones(temperatures.size),\n",
        "        'H2O': abund * np.ones(temperatures.size),\n",
        "    }\n",
        "\n",
        "    #  2.33 is a typical value for H2-He dominated atmospheres\n",
        "    mean_molar_masses = 2.33 * np.ones(temperatures.size)\n",
        "    wavelengths, transit_radii, _ = radtrans.calculate_transit_radii(\n",
        "    temperatures=temperatures,\n",
        "    mass_fractions=mass_fractions,\n",
        "    mean_molar_masses=mean_molar_masses,\n",
        "    reference_gravity=planet.reference_gravity,\n",
        "    planet_radius=planet.radius,\n",
        "    reference_pressure=planet.reference_pressure\n",
        "    )\n",
        "\n",
        "\n",
        "    ax.plot(wavelengths * 1e4, (transit_radii/(1.02*planet.star_radius))**2, label=abund)\n",
        "\n",
        "ax.legend()\n",
        "#ax.set_xscale('log')\n",
        "ax.set_xlabel('Wavelength [microns]')\n",
        "ax.set_ylabel(r'Transit depth')"
      ]
    },
    {
      "cell_type": "code",
      "execution_count": null,
      "id": "c28a2dc1-dac9-425c-af54-e22a5c058c5e",
      "metadata": {
        "id": "c28a2dc1-dac9-425c-af54-e22a5c058c5e"
      },
      "outputs": [],
      "source": [
        "radtrans = Radtrans(\n",
        "    pressures=np.logspace(-6, 2, 100),\n",
        "    line_species=[\n",
        "        'H2O',\n",
        "        'CO2'\n",
        "         ],\n",
        "    rayleigh_species=['H2', 'He'],\n",
        "    gas_continuum_contributors=['H2-H2', 'H2-He'],\n",
        "    wavelength_boundaries=[0.3, 6]\n",
        ")"
      ]
    },
    {
      "cell_type": "code",
      "execution_count": null,
      "id": "69cc8b3f-0ed3-4032-949a-0fbaa8236c24",
      "metadata": {
        "id": "69cc8b3f-0ed3-4032-949a-0fbaa8236c24"
      },
      "outputs": [],
      "source": [
        "fig, ax = plt.subplots(figsize = (10,6))\n",
        "ax.errorbar(wav, transit_depth, yerr=transit_depth_uncertainty, fmt=\"o\", color=\"black\")\n",
        "for abund in [1e-6, 1e-5, 5e-5, 1e-4]:\n",
        "    temperatures = 1170 * np.ones_like(radtrans.pressures) # note that radtrans.pressures is in cgs units now, multiply by 1e-6 to get bars\n",
        "    mass_fractions = {\n",
        "        'H2': 0.74 * np.ones(temperatures.size),\n",
        "        'He': 0.24 * np.ones(temperatures.size),\n",
        "        'H2O': 1e-4 * np.ones(temperatures.size),\n",
        "        'CO2': abund * np.ones(temperatures.size)\n",
        "    }\n",
        "\n",
        "    #  2.33 is a typical value for H2-He dominated atmospheres\n",
        "    mean_molar_masses = 2.33 * np.ones(temperatures.size)\n",
        "    wavelengths, transit_radii, _ = radtrans.calculate_transit_radii(\n",
        "    temperatures=temperatures,\n",
        "    mass_fractions=mass_fractions,\n",
        "    mean_molar_masses=mean_molar_masses,\n",
        "    reference_gravity=planet.reference_gravity,\n",
        "    planet_radius=planet.radius,\n",
        "    reference_pressure=planet.reference_pressure\n",
        "    )\n",
        "\n",
        "\n",
        "    ax.plot(wavelengths * 1e4, (transit_radii/(1.02*planet.star_radius))**2, label=abund)\n",
        "\n",
        "ax.legend()\n",
        "#ax.set_xscale('log')\n",
        "ax.set_xlabel('Wavelength [microns]')\n",
        "ax.set_ylabel(r'Transit depth')"
      ]
    },
    {
      "cell_type": "code",
      "execution_count": null,
      "id": "92481f9b-189c-4476-a075-4b55b7ae7c28",
      "metadata": {
        "id": "92481f9b-189c-4476-a075-4b55b7ae7c28"
      },
      "outputs": [],
      "source": []
    },
    {
      "cell_type": "markdown",
      "id": "3e52eda6-88d3-4cff-a987-fc8879d37506",
      "metadata": {
        "id": "3e52eda6-88d3-4cff-a987-fc8879d37506"
      },
      "source": [
        "## More realistic PT profile"
      ]
    },
    {
      "cell_type": "code",
      "execution_count": null,
      "id": "1ad4a52c-d0d8-46f4-9b18-555fbc77763a",
      "metadata": {
        "id": "1ad4a52c-d0d8-46f4-9b18-555fbc77763a"
      },
      "outputs": [],
      "source": [
        "from petitRADTRANS.physics import temperature_profile_function_guillot_global"
      ]
    },
    {
      "cell_type": "code",
      "execution_count": null,
      "id": "10475d11-9454-4c4b-99b8-9d4fe0bfc3b3",
      "metadata": {
        "id": "10475d11-9454-4c4b-99b8-9d4fe0bfc3b3"
      },
      "outputs": [],
      "source": [
        "pressures_bar = radtrans.pressures * 1e-6 # cgs to bar\n",
        "infrared_mean_opacity = 0.01\n",
        "gamma = 0.4\n",
        "intrinsic_temperature = 200\n",
        "equilibrium_temperature = 1200\n",
        "\n",
        "temperatures = temperature_profile_function_guillot_global(\n",
        "    pressures=pressures_bar,\n",
        "    infrared_mean_opacity=infrared_mean_opacity,\n",
        "    gamma=gamma,\n",
        "    gravities=planet.reference_gravity,\n",
        "    intrinsic_temperature=intrinsic_temperature,\n",
        "    equilibrium_temperature=equilibrium_temperature\n",
        ")"
      ]
    },
    {
      "cell_type": "code",
      "execution_count": null,
      "id": "9dd06753-05dd-42fe-85cc-61bbe7ad0152",
      "metadata": {
        "id": "9dd06753-05dd-42fe-85cc-61bbe7ad0152"
      },
      "outputs": [],
      "source": [
        "# plot PT profile\n",
        "plt.figure()\n",
        "plt.semilogy(temperatures, radtrans.pressures)\n",
        "plt.ylabel(\"pressure\")\n",
        "plt.xlabel(\"temperature\")"
      ]
    },
    {
      "cell_type": "code",
      "execution_count": null,
      "id": "bf460250-326c-4d02-b3e4-7a6bc515a30f",
      "metadata": {
        "id": "bf460250-326c-4d02-b3e4-7a6bc515a30f"
      },
      "outputs": [],
      "source": [
        "mass_fractions = {\n",
        "    'H2': 0.74 * np.ones(temperatures.size),\n",
        "    'He': 0.24 * np.ones(temperatures.size),\n",
        "    'H2O': 1e-2 * np.ones(temperatures.size),\n",
        "    'CO-NatAbund': 1e-4 * np.ones(temperatures.size),\n",
        "    'CO2': 1e-4 * np.ones(temperatures.size),\n",
        "    'CH4': 1e-15 * np.ones(temperatures.size),\n",
        "    'Na': 1e-8 * np.ones(temperatures.size),\n",
        "    'K': 1e-6 * np.ones(temperatures.size)\n",
        "}\n",
        "\n",
        "#  2.33 is a typical value for H2-He dominated atmospheres\n",
        "mean_molar_masses = 2.33 * np.ones(temperatures.size)"
      ]
    },
    {
      "cell_type": "code",
      "execution_count": null,
      "id": "a04eafc0-6c3e-4f3e-95ff-6b0403c13d26",
      "metadata": {
        "id": "a04eafc0-6c3e-4f3e-95ff-6b0403c13d26"
      },
      "outputs": [],
      "source": [
        "power_law_opacity_350nm = 0.008\n",
        "power_law_opacity_coefficient = -1.\n",
        "\n",
        "wavelengths, transit_radii, _ = radtrans.calculate_transit_radii(\n",
        "    temperatures=temperatures,\n",
        "    mass_fractions=mass_fractions,\n",
        "    mean_molar_masses=mean_molar_masses,\n",
        "    reference_gravity=planet.reference_gravity,\n",
        "    planet_radius=planet.radius,\n",
        "    reference_pressure=planet.reference_pressure,\n",
        "    power_law_opacity_350nm=power_law_opacity_350nm,\n",
        "    power_law_opacity_coefficient=power_law_opacity_coefficient\n",
        ")"
      ]
    },
    {
      "cell_type": "code",
      "execution_count": null,
      "id": "15a5e204-dae9-4037-85db-f127aa4c9479",
      "metadata": {
        "id": "15a5e204-dae9-4037-85db-f127aa4c9479"
      },
      "outputs": [],
      "source": [
        "fig, ax = plt.subplots(figsize = (10,6))\n",
        "\n",
        "ax.plot(wavelengths * 1e4, (transit_radii/(1.05*planet.star_radius))**2)\n",
        "ax.errorbar(wav, transit_depth, yerr=transit_depth_uncertainty, fmt=\"o\", color=\"black\")\n",
        "#ax.set_xscale('log')\n",
        "ax.set_xlabel('Wavelength [microns]')\n",
        "ax.set_ylabel(r'Transit depth')"
      ]
    }
  ],
  "metadata": {
    "kernelspec": {
      "display_name": "Python 3 (ipykernel)",
      "language": "python",
      "name": "python3"
    },
    "language_info": {
      "codemirror_mode": {
        "name": "ipython",
        "version": 3
      },
      "file_extension": ".py",
      "mimetype": "text/x-python",
      "name": "python",
      "nbconvert_exporter": "python",
      "pygments_lexer": "ipython3",
      "version": "3.10.14"
    },
    "colab": {
      "provenance": []
    }
  },
  "nbformat": 4,
  "nbformat_minor": 5
}