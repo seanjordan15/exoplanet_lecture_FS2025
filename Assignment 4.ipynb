{
 "cells": [
  {
   "cell_type": "markdown",
   "id": "8084b7a6",
   "metadata": {},
   "source": [
    "# Exoplanet Interiors - Exercise 4"
   ]
  },
  {
   "cell_type": "code",
   "execution_count": null,
   "id": "81f88421",
   "metadata": {},
   "outputs": [],
   "source": [
    "import numpy as np\n",
    "import matplotlib.pyplot as plt"
   ]
  },
  {
   "cell_type": "markdown",
   "id": "43a18040",
   "metadata": {},
   "source": [
    "## Radius Function\n",
    "\n",
    "Implement a function to compute planetary radius given total mass and iron core mass fraction."
   ]
  },
  {
   "cell_type": "code",
   "execution_count": null,
   "id": "64fefc70",
   "metadata": {},
   "outputs": [],
   "source": [
    "def calculate_radius(M_p_EarthMass, f_Fe, rho_Fe, rho_Si):\n",
    "# make sure rho units are in SI"
   ]
  },
  {
   "cell_type": "markdown",
   "id": "40243e23",
   "metadata": {},
   "source": [
    "## Plot Radius vs Mass for Various Iron Fractions"
   ]
  },
  {
   "cell_type": "code",
   "execution_count": null,
   "id": "3fe2f514",
   "metadata": {},
   "outputs": [],
   "source": [
    "# HINT: call calculate_radius"
   ]
  },
  {
   "cell_type": "markdown",
   "id": "fb93460f",
   "metadata": {},
   "source": [
    "## Earth Comparison"
   ]
  },
  {
   "cell_type": "code",
   "execution_count": null,
   "id": "662d0213",
   "metadata": {},
   "outputs": [],
   "source": [
    "# HINT: earth_radius_model = calculate_radius(1.0, 0.33)"
   ]
  },
  {
   "cell_type": "markdown",
   "id": "415b50df",
   "metadata": {},
   "source": [
    "## Optional: Mantle Density Variation"
   ]
  },
  {
   "cell_type": "code",
   "execution_count": null,
   "id": "1a55adee",
   "metadata": {},
   "outputs": [],
   "source": [
    "# HINT: mantle_densities = [3500, 4000, 4500]"
   ]
  }
 ],
 "metadata": {
  "kernelspec": {
   "display_name": "Python 3",
   "language": "python",
   "name": "python3"
  },
  "language_info": {
   "codemirror_mode": {
    "name": "ipython",
    "version": 3
   },
   "file_extension": ".py",
   "mimetype": "text/x-python",
   "name": "python",
   "nbconvert_exporter": "python",
   "pygments_lexer": "ipython3",
   "version": "3.12.9"
  }
 },
 "nbformat": 4,
 "nbformat_minor": 5
}
